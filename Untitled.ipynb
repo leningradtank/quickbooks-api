{
 "cells": [
  {
   "cell_type": "code",
   "execution_count": 1,
   "id": "ef4ffee6",
   "metadata": {},
   "outputs": [],
   "source": [
    "from intuitlib.client import AuthClient\n",
    "from quickbooks import QuickBooks\n",
    "from quickbooks.objects.journalentry import JournalEntry\n",
    "import requests\n",
    "import os\n",
    "\n",
    "import pandas as pd "
   ]
  },
  {
   "cell_type": "code",
   "execution_count": 2,
   "id": "d2990fd7",
   "metadata": {},
   "outputs": [
    {
     "ename": "ValueError",
     "evalue": "Refresh token not specified",
     "output_type": "error",
     "traceback": [
      "\u001b[0;31m---------------------------------------------------------------------------\u001b[0m",
      "\u001b[0;31mValueError\u001b[0m                                Traceback (most recent call last)",
      "Input \u001b[0;32mIn [2]\u001b[0m, in \u001b[0;36m<cell line: 9>\u001b[0;34m()\u001b[0m\n\u001b[1;32m      1\u001b[0m auth_client \u001b[38;5;241m=\u001b[39m AuthClient(\n\u001b[1;32m      2\u001b[0m         client_id\u001b[38;5;241m=\u001b[39m os\u001b[38;5;241m.\u001b[39mgetenv(\u001b[38;5;124m'\u001b[39m\u001b[38;5;124mclient_id\u001b[39m\u001b[38;5;124m'\u001b[39m),\n\u001b[1;32m      3\u001b[0m         client_secret\u001b[38;5;241m=\u001b[39m os\u001b[38;5;241m.\u001b[39mgetenv(\u001b[38;5;124m'\u001b[39m\u001b[38;5;124mclient_secret\u001b[39m\u001b[38;5;124m'\u001b[39m),\n\u001b[0;32m   (...)\u001b[0m\n\u001b[1;32m      6\u001b[0m         redirect_uri\u001b[38;5;241m=\u001b[39m\u001b[38;5;124m'\u001b[39m\u001b[38;5;124mhttp://localhost:8000/callback\u001b[39m\u001b[38;5;124m'\u001b[39m,\n\u001b[1;32m      7\u001b[0m     )\n\u001b[0;32m----> 9\u001b[0m client \u001b[38;5;241m=\u001b[39m \u001b[43mQuickBooks\u001b[49m\u001b[43m(\u001b[49m\n\u001b[1;32m     10\u001b[0m \u001b[43m        \u001b[49m\u001b[43mauth_client\u001b[49m\u001b[38;5;241;43m=\u001b[39;49m\u001b[43mauth_client\u001b[49m\u001b[43m,\u001b[49m\n\u001b[1;32m     11\u001b[0m \u001b[43m        \u001b[49m\u001b[43mrefresh_token\u001b[49m\u001b[38;5;241;43m=\u001b[39;49m\u001b[43mos\u001b[49m\u001b[38;5;241;43m.\u001b[39;49m\u001b[43mgetenv\u001b[49m\u001b[43m(\u001b[49m\u001b[38;5;124;43m'\u001b[39;49m\u001b[38;5;124;43mrefresh_token\u001b[39;49m\u001b[38;5;124;43m'\u001b[39;49m\u001b[43m)\u001b[49m\u001b[43m,\u001b[49m\n\u001b[1;32m     12\u001b[0m \u001b[43m        \u001b[49m\u001b[43mcompany_id\u001b[49m\u001b[38;5;241;43m=\u001b[39;49m\u001b[43mos\u001b[49m\u001b[38;5;241;43m.\u001b[39;49m\u001b[43mgetenv\u001b[49m\u001b[43m(\u001b[49m\u001b[38;5;124;43m'\u001b[39;49m\u001b[38;5;124;43mcompany_id\u001b[39;49m\u001b[38;5;124;43m'\u001b[39;49m\u001b[43m)\u001b[49m\u001b[43m,\u001b[49m\n\u001b[1;32m     13\u001b[0m \u001b[43m    \u001b[49m\u001b[43m)\u001b[49m\n",
      "File \u001b[0;32m/opt/homebrew/lib/python3.10/site-packages/quickbooks/client.py:83\u001b[0m, in \u001b[0;36mQuickBooks.__new__\u001b[0;34m(cls, **kwargs)\u001b[0m\n\u001b[1;32m     80\u001b[0m     \u001b[38;5;28;01melse\u001b[39;00m:\n\u001b[1;32m     81\u001b[0m         instance\u001b[38;5;241m.\u001b[39msandbox \u001b[38;5;241m=\u001b[39m \u001b[38;5;28;01mFalse\u001b[39;00m\n\u001b[0;32m---> 83\u001b[0m     refresh_token \u001b[38;5;241m=\u001b[39m \u001b[43minstance\u001b[49m\u001b[38;5;241;43m.\u001b[39;49m\u001b[43m_start_session\u001b[49m\u001b[43m(\u001b[49m\u001b[43m)\u001b[49m\n\u001b[1;32m     84\u001b[0m     instance\u001b[38;5;241m.\u001b[39mrefresh_token \u001b[38;5;241m=\u001b[39m refresh_token\n\u001b[1;32m     86\u001b[0m \u001b[38;5;28;01mif\u001b[39;00m \u001b[38;5;124m'\u001b[39m\u001b[38;5;124mcompany_id\u001b[39m\u001b[38;5;124m'\u001b[39m \u001b[38;5;129;01min\u001b[39;00m kwargs:\n",
      "File \u001b[0;32m/opt/homebrew/lib/python3.10/site-packages/quickbooks/client.py:101\u001b[0m, in \u001b[0;36mQuickBooks._start_session\u001b[0;34m(self)\u001b[0m\n\u001b[1;32m     99\u001b[0m \u001b[38;5;28;01mdef\u001b[39;00m \u001b[38;5;21m_start_session\u001b[39m(\u001b[38;5;28mself\u001b[39m):\n\u001b[1;32m    100\u001b[0m     \u001b[38;5;28;01mif\u001b[39;00m \u001b[38;5;28mself\u001b[39m\u001b[38;5;241m.\u001b[39mauth_client\u001b[38;5;241m.\u001b[39maccess_token \u001b[38;5;129;01mis\u001b[39;00m \u001b[38;5;28;01mNone\u001b[39;00m:\n\u001b[0;32m--> 101\u001b[0m         \u001b[38;5;28;43mself\u001b[39;49m\u001b[38;5;241;43m.\u001b[39;49m\u001b[43mauth_client\u001b[49m\u001b[38;5;241;43m.\u001b[39;49m\u001b[43mrefresh\u001b[49m\u001b[43m(\u001b[49m\u001b[43mrefresh_token\u001b[49m\u001b[38;5;241;43m=\u001b[39;49m\u001b[38;5;28;43mself\u001b[39;49m\u001b[38;5;241;43m.\u001b[39;49m\u001b[43mrefresh_token\u001b[49m\u001b[43m)\u001b[49m\n\u001b[1;32m    103\u001b[0m     \u001b[38;5;28mself\u001b[39m\u001b[38;5;241m.\u001b[39msession \u001b[38;5;241m=\u001b[39m OAuth2Session(\n\u001b[1;32m    104\u001b[0m         client_id\u001b[38;5;241m=\u001b[39m\u001b[38;5;28mself\u001b[39m\u001b[38;5;241m.\u001b[39mauth_client\u001b[38;5;241m.\u001b[39mclient_id,\n\u001b[1;32m    105\u001b[0m         client_secret\u001b[38;5;241m=\u001b[39m\u001b[38;5;28mself\u001b[39m\u001b[38;5;241m.\u001b[39mauth_client\u001b[38;5;241m.\u001b[39mclient_secret,\n\u001b[1;32m    106\u001b[0m         access_token\u001b[38;5;241m=\u001b[39m\u001b[38;5;28mself\u001b[39m\u001b[38;5;241m.\u001b[39mauth_client\u001b[38;5;241m.\u001b[39maccess_token,\n\u001b[1;32m    107\u001b[0m     )\n\u001b[1;32m    108\u001b[0m     \u001b[38;5;28;01mreturn\u001b[39;00m \u001b[38;5;28mself\u001b[39m\u001b[38;5;241m.\u001b[39mauth_client\u001b[38;5;241m.\u001b[39mrefresh_token\n",
      "File \u001b[0;32m/opt/homebrew/lib/python3.10/site-packages/intuitlib/client.py:143\u001b[0m, in \u001b[0;36mAuthClient.refresh\u001b[0;34m(self, refresh_token)\u001b[0m\n\u001b[1;32m    141\u001b[0m token \u001b[38;5;241m=\u001b[39m refresh_token \u001b[38;5;129;01mor\u001b[39;00m \u001b[38;5;28mself\u001b[39m\u001b[38;5;241m.\u001b[39mrefresh_token\n\u001b[1;32m    142\u001b[0m \u001b[38;5;28;01mif\u001b[39;00m token \u001b[38;5;129;01mis\u001b[39;00m \u001b[38;5;28;01mNone\u001b[39;00m:\n\u001b[0;32m--> 143\u001b[0m     \u001b[38;5;28;01mraise\u001b[39;00m \u001b[38;5;167;01mValueError\u001b[39;00m(\u001b[38;5;124m'\u001b[39m\u001b[38;5;124mRefresh token not specified\u001b[39m\u001b[38;5;124m'\u001b[39m)\n\u001b[1;32m    145\u001b[0m headers \u001b[38;5;241m=\u001b[39m {\n\u001b[1;32m    146\u001b[0m     \u001b[38;5;124m'\u001b[39m\u001b[38;5;124mContent-Type\u001b[39m\u001b[38;5;124m'\u001b[39m: \u001b[38;5;124m'\u001b[39m\u001b[38;5;124mapplication/x-www-form-urlencoded\u001b[39m\u001b[38;5;124m'\u001b[39m,\n\u001b[1;32m    147\u001b[0m     \u001b[38;5;124m'\u001b[39m\u001b[38;5;124mAuthorization\u001b[39m\u001b[38;5;124m'\u001b[39m: get_auth_header(\u001b[38;5;28mself\u001b[39m\u001b[38;5;241m.\u001b[39mclient_id, \u001b[38;5;28mself\u001b[39m\u001b[38;5;241m.\u001b[39mclient_secret)\n\u001b[1;32m    148\u001b[0m }\n\u001b[1;32m    150\u001b[0m body \u001b[38;5;241m=\u001b[39m {\n\u001b[1;32m    151\u001b[0m     \u001b[38;5;124m'\u001b[39m\u001b[38;5;124mgrant_type\u001b[39m\u001b[38;5;124m'\u001b[39m: \u001b[38;5;124m'\u001b[39m\u001b[38;5;124mrefresh_token\u001b[39m\u001b[38;5;124m'\u001b[39m,\n\u001b[1;32m    152\u001b[0m     \u001b[38;5;124m'\u001b[39m\u001b[38;5;124mrefresh_token\u001b[39m\u001b[38;5;124m'\u001b[39m: token\n\u001b[1;32m    153\u001b[0m }\n",
      "\u001b[0;31mValueError\u001b[0m: Refresh token not specified"
     ]
    }
   ],
   "source": [
    "auth_client = AuthClient(\n",
    "        client_id= os.getenv('client_id'),\n",
    "        client_secret= os.getenv('client_secret'),\n",
    "        access_token= os.getenv('access_token'),\n",
    "        environment='sandbox',\n",
    "        redirect_uri='http://localhost:8000/callback',\n",
    "    )\n",
    "\n",
    "client = QuickBooks(\n",
    "        auth_client=auth_client,\n",
    "        refresh_token=os.getenv('refresh_token'),\n",
    "        company_id=os.getenv('company_id'),\n",
    "    )"
   ]
  },
  {
   "cell_type": "code",
   "execution_count": 4,
   "id": "a8bd96cd",
   "metadata": {},
   "outputs": [],
   "source": [
    "df_upload = pd.read_csv('data_qb.csv')"
   ]
  },
  {
   "cell_type": "code",
   "execution_count": 6,
   "id": "d4b47dee",
   "metadata": {},
   "outputs": [
    {
     "data": {
      "text/html": [
       "<div>\n",
       "<style scoped>\n",
       "    .dataframe tbody tr th:only-of-type {\n",
       "        vertical-align: middle;\n",
       "    }\n",
       "\n",
       "    .dataframe tbody tr th {\n",
       "        vertical-align: top;\n",
       "    }\n",
       "\n",
       "    .dataframe thead th {\n",
       "        text-align: right;\n",
       "    }\n",
       "</style>\n",
       "<table border=\"1\" class=\"dataframe\">\n",
       "  <thead>\n",
       "    <tr style=\"text-align: right;\">\n",
       "      <th></th>\n",
       "      <th>Account</th>\n",
       "      <th>Type</th>\n",
       "      <th>Detail type</th>\n",
       "      <th>Description</th>\n",
       "      <th>Balance</th>\n",
       "      <th>Currency</th>\n",
       "    </tr>\n",
       "  </thead>\n",
       "  <tbody>\n",
       "    <tr>\n",
       "      <th>0</th>\n",
       "      <td>1010 Operating Cash</td>\n",
       "      <td>Bank</td>\n",
       "      <td>Checking</td>\n",
       "      <td>NaN</td>\n",
       "      <td>1,056,274.89</td>\n",
       "      <td>USD</td>\n",
       "    </tr>\n",
       "    <tr>\n",
       "      <th>1</th>\n",
       "      <td>1010 Operating Cash:111025 (1012) SVB Operatin...</td>\n",
       "      <td>Bank</td>\n",
       "      <td>Checking</td>\n",
       "      <td>SVB Checking #7899</td>\n",
       "      <td>477,122.45</td>\n",
       "      <td>USD</td>\n",
       "    </tr>\n",
       "    <tr>\n",
       "      <th>2</th>\n",
       "      <td>1010 Operating Cash:111035 (1015) BMO Operatin...</td>\n",
       "      <td>Bank</td>\n",
       "      <td>Checking</td>\n",
       "      <td>NaN</td>\n",
       "      <td>579,152.44</td>\n",
       "      <td>USD</td>\n",
       "    </tr>\n",
       "    <tr>\n",
       "      <th>3</th>\n",
       "      <td>1010 Operating Cash:111100 (1016) BMO DTCC Set...</td>\n",
       "      <td>Bank</td>\n",
       "      <td>Checking</td>\n",
       "      <td>NaN</td>\n",
       "      <td>0</td>\n",
       "      <td>USD</td>\n",
       "    </tr>\n",
       "    <tr>\n",
       "      <th>4</th>\n",
       "      <td>1010 Operating Cash:111803 (1014) FRB Operatin...</td>\n",
       "      <td>Bank</td>\n",
       "      <td>Checking</td>\n",
       "      <td>NaN</td>\n",
       "      <td>0</td>\n",
       "      <td>USD</td>\n",
       "    </tr>\n",
       "  </tbody>\n",
       "</table>\n",
       "</div>"
      ],
      "text/plain": [
       "                                             Account  Type Detail type  \\\n",
       "0                                1010 Operating Cash  Bank    Checking   \n",
       "1  1010 Operating Cash:111025 (1012) SVB Operatin...  Bank    Checking   \n",
       "2  1010 Operating Cash:111035 (1015) BMO Operatin...  Bank    Checking   \n",
       "3  1010 Operating Cash:111100 (1016) BMO DTCC Set...  Bank    Checking   \n",
       "4  1010 Operating Cash:111803 (1014) FRB Operatin...  Bank    Checking   \n",
       "\n",
       "          Description       Balance Currency  \n",
       "0                 NaN  1,056,274.89      USD  \n",
       "1  SVB Checking #7899    477,122.45      USD  \n",
       "2                 NaN    579,152.44      USD  \n",
       "3                 NaN             0      USD  \n",
       "4                 NaN             0      USD  "
      ]
     },
     "execution_count": 6,
     "metadata": {},
     "output_type": "execute_result"
    }
   ],
   "source": [
    "df_upload.head(5)"
   ]
  },
  {
   "cell_type": "code",
   "execution_count": 15,
   "id": "acefb4a4",
   "metadata": {},
   "outputs": [
    {
     "data": {
      "text/html": [
       "<div>\n",
       "<style scoped>\n",
       "    .dataframe tbody tr th:only-of-type {\n",
       "        vertical-align: middle;\n",
       "    }\n",
       "\n",
       "    .dataframe tbody tr th {\n",
       "        vertical-align: top;\n",
       "    }\n",
       "\n",
       "    .dataframe thead th {\n",
       "        text-align: right;\n",
       "    }\n",
       "</style>\n",
       "<table border=\"1\" class=\"dataframe\">\n",
       "  <thead>\n",
       "    <tr style=\"text-align: right;\">\n",
       "      <th></th>\n",
       "      <th>Account</th>\n",
       "      <th>Type</th>\n",
       "      <th>Detail type</th>\n",
       "      <th>Description</th>\n",
       "      <th>Balance</th>\n",
       "      <th>Currency</th>\n",
       "    </tr>\n",
       "  </thead>\n",
       "  <tbody>\n",
       "    <tr>\n",
       "      <th>0</th>\n",
       "      <td>1010 Operating Cash</td>\n",
       "      <td>Bank</td>\n",
       "      <td>Checking</td>\n",
       "      <td>NaN</td>\n",
       "      <td>1,056,274.89</td>\n",
       "      <td>USD</td>\n",
       "    </tr>\n",
       "  </tbody>\n",
       "</table>\n",
       "</div>"
      ],
      "text/plain": [
       "               Account  Type Detail type Description       Balance Currency\n",
       "0  1010 Operating Cash  Bank    Checking         NaN  1,056,274.89      USD"
      ]
     },
     "execution_count": 15,
     "metadata": {},
     "output_type": "execute_result"
    }
   ],
   "source": [
    "df_upload[:1:]"
   ]
  },
  {
   "cell_type": "code",
   "execution_count": null,
   "id": "2a22e5e3",
   "metadata": {},
   "outputs": [],
   "source": []
  }
 ],
 "metadata": {
  "kernelspec": {
   "display_name": "Python 3 (ipykernel)",
   "language": "python",
   "name": "python3"
  },
  "language_info": {
   "codemirror_mode": {
    "name": "ipython",
    "version": 3
   },
   "file_extension": ".py",
   "mimetype": "text/x-python",
   "name": "python",
   "nbconvert_exporter": "python",
   "pygments_lexer": "ipython3",
   "version": "3.10.6"
  }
 },
 "nbformat": 4,
 "nbformat_minor": 5
}
